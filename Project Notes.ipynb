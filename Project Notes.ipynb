{
 "cells": [
  {
   "cell_type": "markdown",
   "metadata": {},
   "source": [
    "Notes:\n",
    "\n",
    "### Issues with my project (not to be fixed but be aware of)\n",
    "1) Not able to check for duplication of entries easily as it is hard to equate bodies of text or even just headlines \\\n",
    "2) When vectorising we need to apply the same vectorisation to the test set as we did for the training. If there are new words in the test set that were not present in the training data, they get ignored.\n",
    "\n",
    "\n",
    "### Questions to Ask\n",
    "\n",
    "\n",
    "### Changes from original plan\n",
    "1) Had to add a new dataset as there was a bias in my original dataset with 40% coming from the same website \\\n",
    "2) Removed the website as a feature as the second dataset didn't have it. Also because it would be a weak feature to use for prediction \\\n",
    "3) Look into classifying accuracy using F1, Precision, Recall \\\n",
    "4) ROC curve and True vs False Positive Rates \\\n",
    "5) Try different tokenisation (Bag of Words, Word2Vec, TF-IDF) \\\n",
    "6) Cross-validate your models before picking the best model to use on the test set \\\n",
    "7) Ensembles and stacking\\\n",
    "8) Bag of Words probably won't work well due to Real and Fake news having high frequency of same words \\\n",
    "9) Might need to look into using SpaCy to ideintify types of word\n",
    "\n",
    "### Models\n",
    "1) Logistic Regression (OOTB): 62.4%, (Optimised): 62.5% \\\n",
    "2) Random Forests (OOTB): 63.5%, (Optimised): 62.8% \\\n",
    "3) MLP Classifier (OOTB): 63.6%, (Optimised): 63.7%\n",
    "\n",
    "### References:\n",
    "1) https://stackabuse.com/python-for-nlp-tokenization-stemming-and-lemmatization-with-spacy-library/\n",
    "\n",
    "\n"
   ]
  },
  {
   "cell_type": "code",
   "execution_count": null,
   "metadata": {},
   "outputs": [],
   "source": []
  }
 ],
 "metadata": {
  "kernelspec": {
   "display_name": "Python 3",
   "language": "python",
   "name": "python3"
  },
  "language_info": {
   "codemirror_mode": {
    "name": "ipython",
    "version": 3
   },
   "file_extension": ".py",
   "mimetype": "text/x-python",
   "name": "python",
   "nbconvert_exporter": "python",
   "pygments_lexer": "ipython3",
   "version": "3.7.6"
  }
 },
 "nbformat": 4,
 "nbformat_minor": 2
}
